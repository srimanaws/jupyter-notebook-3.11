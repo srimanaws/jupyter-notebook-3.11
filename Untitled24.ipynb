{
 "cells": [
  {
   "cell_type": "code",
   "execution_count": null,
   "id": "8856fbf7-a9c1-49f9-9261-987c25aa2d4a",
   "metadata": {},
   "outputs": [
    {
     "name": "stdin",
     "output_type": "stream",
     "text": [
      "Enter the gallons used (-1 to end):  45\n",
      "Enter the miles driven:  20\n"
     ]
    },
    {
     "name": "stdout",
     "output_type": "stream",
     "text": [
      "The miles/gallon for this tank was 0.444444\n"
     ]
    }
   ],
   "source": [
    "# Eercise 3.11 by sriman\n",
    "# Initialize variables to accumulate total miles and gallons\n",
    "total_miles = 0\n",
    "total_gallons = 0\n",
    "\n",
    "while True:\n",
    "    # Prompt user for gallons used\n",
    "    gallons = float(input('Enter the gallons used (-1 to end): '))\n",
    "    \n",
    "    # Check if the sentinel value is entered to stop the loop\n",
    "    if gallons == -1:\n",
    "        break\n",
    "    \n",
    "    # Prompt user for miles driven\n",
    "    miles = float(input('Enter the miles driven: '))\n",
    "    \n",
    "    # Calculate miles per gallon for this tankful\n",
    "    mpg = miles / gallons\n",
    "    \n",
    "    # Display the miles per gallon for this tankful\n",
    "    print(f'The miles/gallon for this tank was {mpg:.6f}')\n",
    "    \n",
    "    # Accumulate total miles and gallons\n",
    "    total_miles += miles\n",
    "    total_gallons += gallons\n",
    "\n",
    "# After exiting the loop, calculate and display the combined miles per gallon\n",
    "if total_gallons > 0:\n",
    "    combined_mpg = total_miles / total_gallons\n",
    "    print(f'The overall average miles/gallon was {combined_mpg:.6f}')\n",
    "else:\n",
    "    print('No valid data entered to calculate overall miles per gallon.')\n"
   ]
  },
  {
   "cell_type": "code",
   "execution_count": null,
   "id": "c94815cf-9295-4dbf-ac35-819475f4032c",
   "metadata": {},
   "outputs": [],
   "source": []
  }
 ],
 "metadata": {
  "kernelspec": {
   "display_name": "Python 3 (ipykernel)",
   "language": "python",
   "name": "python3"
  },
  "language_info": {
   "codemirror_mode": {
    "name": "ipython",
    "version": 3
   },
   "file_extension": ".py",
   "mimetype": "text/x-python",
   "name": "python",
   "nbconvert_exporter": "python",
   "pygments_lexer": "ipython3",
   "version": "3.12.4"
  }
 },
 "nbformat": 4,
 "nbformat_minor": 5
}
