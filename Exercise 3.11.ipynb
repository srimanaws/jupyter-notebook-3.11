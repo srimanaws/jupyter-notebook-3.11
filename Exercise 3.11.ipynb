{
 "cells": [
  {
   "cell_type": "code",
   "execution_count": null,
   "id": "0a736eda-2a15-4601-aaed-84f2957dc806",
   "metadata": {},
   "outputs": [
    {
     "name": "stdin",
     "output_type": "stream",
     "text": [
      "Enter miles driven (or enter -1 to stop):  250\n",
      "Enter gallons used:  24\n"
     ]
    },
    {
     "name": "stdout",
     "output_type": "stream",
     "text": [
      "Miles per gallon for this tankful: 10.42\n"
     ]
    }
   ],
   "source": [
    "# Exercise 3.11 by sriman\n",
    "# Initialize variables to accumulate total miles and gallons\n",
    "total_miles = 0\n",
    "total_gallons = 0\n",
    "\n",
    "while True:\n",
    "    # Prompt user for miles driven\n",
    "    miles = float(input('Enter miles driven (or enter -1 to stop): '))\n",
    "    \n",
    "    # Check if the sentinel value is entered to stop the loop\n",
    "    if miles == -1:\n",
    "        break\n",
    "    \n",
    "    # Prompt user for gallons used\n",
    "    gallons = float(input('Enter gallons used: '))\n",
    "    \n",
    "    # Calculate miles per gallon for this tankful\n",
    "    mpg = miles / gallons\n",
    "    \n",
    "    # Display the miles per gallon for this tankful\n",
    "    print(f'Miles per gallon for this tankful: {mpg:.2f}')\n",
    "    \n",
    "    # Accumulate total miles and gallons\n",
    "    total_miles += miles\n",
    "    total_gallons += gallons\n",
    "\n",
    "# After exiting the loop, calculate and display the combined miles per gallon\n",
    "if total_gallons > 0:\n",
    "    combined_mpg = total_miles / total_gallons\n",
    "    print(f'Combined miles per gallon for all tankfuls: {combined_mpg:.2f}')\n",
    "else:\n",
    "    print('No valid data entered to calculate combined miles per gallon.')\n"
   ]
  },
  {
   "cell_type": "code",
   "execution_count": null,
   "id": "6348331d-5878-48e2-9879-c496e823fa5e",
   "metadata": {},
   "outputs": [],
   "source": []
  }
 ],
 "metadata": {
  "kernelspec": {
   "display_name": "Python 3 (ipykernel)",
   "language": "python",
   "name": "python3"
  },
  "language_info": {
   "codemirror_mode": {
    "name": "ipython",
    "version": 3
   },
   "file_extension": ".py",
   "mimetype": "text/x-python",
   "name": "python",
   "nbconvert_exporter": "python",
   "pygments_lexer": "ipython3",
   "version": "3.12.4"
  }
 },
 "nbformat": 4,
 "nbformat_minor": 5
}
